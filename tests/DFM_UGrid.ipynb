{
 "cells": [
  {
   "cell_type": "code",
   "execution_count": null,
   "metadata": {},
   "outputs": [],
   "source": [
    "%matplotlib inline\n",
    "\n",
    "import numpy as np\n",
    "import matplotlib.tri as tri\n",
    "import matplotlib.pyplot as plt\n",
    "import cartopy.crs as ccrs\n",
    "from cartopy.mpl.gridliner import LONGITUDE_FORMATTER, LATITUDE_FORMATTER\n",
    "import matplotlib\n",
    "from matplotlib import cm\n",
    "\n",
    "def make_map(projection=ccrs.PlateCarree()):\n",
    "    \n",
    "    fig, ax = plt.subplots(figsize=(16, 6),\n",
    "                           subplot_kw=dict(projection=projection))\n",
    "    gl = ax.gridlines(draw_labels=True)\n",
    "    gl.xlabels_top = gl.ylabels_right = False\n",
    "    gl.xformatter = LONGITUDE_FORMATTER\n",
    "    gl.yformatter = LATITUDE_FORMATTER\n",
    "    return fig, ax"
   ]
  },
  {
   "cell_type": "code",
   "execution_count": null,
   "metadata": {},
   "outputs": [],
   "source": [
    "cmap_wl = cm.Blues\n",
    "N = matplotlib.colors.Normalize(0,2)"
   ]
  },
  {
   "cell_type": "code",
   "execution_count": null,
   "metadata": {},
   "outputs": [],
   "source": [
    "# test Glofrim BMI\n",
    "from glofrim import DFM\n",
    "config_fn = r'/home/dirk/repos/model_test_data/test_Elbe/DFM_Elbe/Elbe_1way_1d2dFM_400m_3200m.mdu'\n",
    "engine = r'/home/dirk/Models/dflowfm-1.1.201/lib/libdflowfm.so'\n",
    "bmi = DFM(engine = engine)\n",
    "bmi.initialize(config_fn=config_fn)\n",
    "bmi = bmi._bmi\n",
    "# fcoords = bmi.get_grid().get_poly_coords()"
   ]
  },
  {
   "cell_type": "code",
   "execution_count": null,
   "metadata": {},
   "outputs": [],
   "source": [
    "# import netCDF4\n",
    "# import pyugrid\n",
    "\n",
    "# print('pyugrid version: {}'.format(pyugrid.__version__))\n",
    "# print('netCDF4 version: {}'.format(netCDF4.__version__))\n",
    "\n",
    "# fn = r'/home/dirk/repos/model_test_data/test_Elbe/DFM_Elbe/1d2dFM_Elbe_fine3_emb_net.nc'\n",
    "# fn = r'/home/dirk/repos/model_test_data/test_Elbe/DFM_Elbe/test_net.nc'\n",
    "# ug = pyugrid.UGrid.from_ncfile(fn)\n",
    "# ug.nodes\n",
    "# ug.faces"
   ]
  },
  {
   "cell_type": "code",
   "execution_count": null,
   "metadata": {},
   "outputs": [],
   "source": [
    "# from bmi.wrapper import BMIWrapper\n",
    "# engine = r'/home/dirk/Models/dflowfm-1.1.201/lib/libdflowfm.so'\n",
    "# config_fn = r'/home/dirk/repos/model_test_data/test_Elbe/DFM_Elbe/Elbe_1way_1d2dFM_400m_3200m.mdu'\n",
    "# bmi = BMIWrapper(engine = engine)\n",
    "# bmi.initialize(config_fn)"
   ]
  },
  {
   "cell_type": "code",
   "execution_count": null,
   "metadata": {},
   "outputs": [],
   "source": [
    "[bmi.get_var_name(i) for i in range(bmi.get_var_count()) if '' in bmi.get_var_name(i)]"
   ]
  },
  {
   "cell_type": "markdown",
   "metadata": {},
   "source": [
    "https://repos.deltares.nl/repos/ds/trunk/additional/unstruc/src/bmi_get_var.inc"
   ]
  },
  {
   "cell_type": "markdown",
   "metadata": {},
   "source": [
    "#### questions\n",
    "- what is the difference between xz,yz and xk,yk?\n",
    "- "
   ]
  },
  {
   "cell_type": "code",
   "execution_count": null,
   "metadata": {},
   "outputs": [],
   "source": [
    "# all cells 2d + 1d\n",
    "\n",
    "cell_x = bmi.get_var('xz') # x-coords of each cell centre point\n",
    "cell_y = bmi.get_var('yz') # y-coords of each cell centre point\n",
    "cell_xy = np.array(zip(cell_x, cell_y))\n",
    "ndx2d = int(bmi.get_var('ndx2d'))\n",
    "ndxi = int(bmi.get_var('ndxi'))\n",
    "cidx_2d = np.arange(ndx2d)\n",
    "cidx_1d = np.arange(ndx2d, ndxi)\n",
    "cidx_bnds = np.arange(ndxi, cell_xy.shape[0])\n",
    "\n",
    "face_coordinates = cell_xy[cidx_2d, :] # coordinates of cell centres"
   ]
  },
  {
   "cell_type": "code",
   "execution_count": null,
   "metadata": {},
   "outputs": [],
   "source": [
    "# 2d mesh \n",
    "node_lon = bmi.get_var('xk')\n",
    "node_lat = bmi.get_var('yk') \n",
    "nodes = np.array(zip(node_lon, node_lat))\n",
    "\n",
    "faces = bmi.get_var('flowelemnode') # face_node_connectivity\n",
    "faces = np.ma.masked_equal(faces, -1) - 1\n",
    "\n",
    "nidx_2d = np.arange(faces.max()) # index of 2d nodes based on number of nodes\n",
    "nodes_2d = nodes[nidx_2d, :]     # coordinates of nodes\n"
   ]
  },
  {
   "cell_type": "code",
   "execution_count": null,
   "metadata": {},
   "outputs": [],
   "source": [
    "# 1d network\n",
    "ln = bmi.get_var('ln') \n",
    "ln_1d = np.array([[fr, to] for fr, to in ln if (fr in  cidx_1d) and (to in cidx_1d)])"
   ]
  },
  {
   "cell_type": "code",
   "execution_count": null,
   "metadata": {},
   "outputs": [],
   "source": [
    "# 1d network\n",
    "kn = bmi.get_var('kn') \n",
    "nlink_type = kn[:, 2] # type\n",
    "nlinks = kn[:, :2] - 1 # link\n",
    "nlinks_1d = nlinks[nlink_type == 1] # link_between_1D_nodes\n",
    "nidx_1d = np.arange(nlinks_1d.min(), nlinks_1d.max()+1)\n",
    "nodes_1d = nodes[nidx_1d, :]\n",
    "nlinks_1d = nlinks_1d #- nlinks_1d.min()\n",
    "# cidx_id  #\n",
    "len(nidx_1d), len(cidx_1d)"
   ]
  },
  {
   "cell_type": "markdown",
   "metadata": {},
   "source": [
    "### there is a difference between the 1d nodes and cells \n",
    "- number of 1d nodes (nk=9349) and 1d cells (nc=9425) is not the same, difference is boundary cells?\n",
    "- how are the cells ordered. The first nk 1d cells are not the same as 1d nodes ??"
   ]
  },
  {
   "cell_type": "code",
   "execution_count": null,
   "metadata": {},
   "outputs": [],
   "source": [
    "nidx_1d.size, cidx_1d.size # where does the difference come from -> downstream boundary nodes\n",
    "# nidx_1d, cidx_1d"
   ]
  },
  {
   "cell_type": "code",
   "execution_count": null,
   "metadata": {},
   "outputs": [],
   "source": [
    "cells_1d = cell_xy[cidx_1d[:nidx_1d.size]] # first 9349 cells (same number as 1d nodes)\n",
    "np.all(nodes_1d == cells_1d)"
   ]
  },
  {
   "cell_type": "code",
   "execution_count": null,
   "metadata": {},
   "outputs": [],
   "source": [
    "idx = np.where(np.not_equal(cells_1d, nodes_1d))[0]\n",
    "idx"
   ]
  },
  {
   "cell_type": "markdown",
   "metadata": {},
   "source": [
    "### link 1d network nodes to cell indices based on location"
   ]
  },
  {
   "cell_type": "code",
   "execution_count": null,
   "metadata": {},
   "outputs": [],
   "source": [
    "# link 1d network nodes to cell indices based on location\n",
    "ncidx_1d = np.ones_like(nidx_1d) * -1\n",
    "import rtree\n",
    "# create index\n",
    "rt = rtree.index.Index()\n",
    "for ci, xy in zip(cidx_1d, cell_xy[cidx_1d]):\n",
    "    rt.insert(ci, xy.tolist())\n",
    "# find nearest cell for each node\n",
    "for ni, xy in enumerate(nodes[nidx_1d]):\n",
    "    ci = list(rt.nearest(xy.tolist(), 1))\n",
    "    assert np.all(xy == cell_xy[ci])\n",
    "    ncidx_1d[ni] = ci[0] \n",
    "    # make sure each cell is found only ones\n",
    "    # this is expensive, but only way to do it\n",
    "    rt.delete(ci[0], xy.tolist()) \n"
   ]
  },
  {
   "cell_type": "code",
   "execution_count": null,
   "metadata": {},
   "outputs": [],
   "source": [
    "ncidx_1d = np.ma.masked_equal(ncidx_1d, -1)\n",
    "ncidx_1d[~ncidx_1d.mask].size, np.unique(ncidx_1d[~ncidx_1d.mask]).size"
   ]
  },
  {
   "cell_type": "code",
   "execution_count": null,
   "metadata": {},
   "outputs": [],
   "source": [
    "cells_1d = cell_xy[ncidx_1d] # index based on rtree\n",
    "np.all(nodes_1d == cells_1d)"
   ]
  },
  {
   "cell_type": "markdown",
   "metadata": {},
   "source": [
    "### find start and end points of 1d network based on link counts\n",
    "- is ther another way to finde these?\n",
    "- is up and downstream alway defined the same in links: from (downstream) -> to (upstream)\n"
   ]
  },
  {
   "cell_type": "code",
   "execution_count": null,
   "metadata": {},
   "outputs": [],
   "source": [
    "# boundary conditions\n",
    "bi = [ci for ci in cidx_1d if ci not in ncidx_1d]"
   ]
  },
  {
   "cell_type": "code",
   "execution_count": null,
   "metadata": {},
   "outputs": [],
   "source": [
    "len(bi)"
   ]
  },
  {
   "cell_type": "code",
   "execution_count": null,
   "metadata": {},
   "outputs": [],
   "source": [
    "# find start and end points of 1d network based on link counts\n",
    "nidx_1d, nidx_1d_counts = np.unique(ln_1d, return_counts=True)\n",
    "pidx_single = nidx_1d[nidx_1d_counts==1]\n",
    "sp = np.array([p for p in pidx_single if p in ln_1d[0, :]])\n",
    "ep = np.array([p for p in pidx_single if p not in sp])\n"
   ]
  },
  {
   "cell_type": "code",
   "execution_count": null,
   "metadata": {},
   "outputs": [],
   "source": [
    "ln_1d_fix = np.array([[fr, to] for fr, to in ln_1d if (fr not in  sp) and (to not in ep)])"
   ]
  },
  {
   "cell_type": "code",
   "execution_count": null,
   "metadata": {},
   "outputs": [],
   "source": [
    "len(ln_1d_fix), len(ln_1d)"
   ]
  },
  {
   "cell_type": "code",
   "execution_count": null,
   "metadata": {},
   "outputs": [],
   "source": [
    "# reduce faces array to ragged array to be used as index\n",
    "n_nodes_per_face = (~faces.mask).sum(axis=1)\n",
    "ragged = [\n",
    "    face[:n_nodes].filled()\n",
    "    for n_nodes, face \n",
    "    in zip(n_nodes_per_face, faces)\n",
    "]\n",
    "fcoords = [nodes[np.append(face, face[0])] for face in ragged]\n",
    "# faces"
   ]
  },
  {
   "cell_type": "code",
   "execution_count": null,
   "metadata": {},
   "outputs": [],
   "source": [
    "# net links\n",
    "# 0) closed_link_between_2D_nodes \n",
    "# 1) link_between_1D_nodes\n",
    "# 2) link_between_2D_nodes\n",
    "# 3) embedded_1D2D_link\n",
    "# 4) 1D2D_link\n",
    "\n",
    "\n",
    "# l1d2d = nlinks[nlink_type == 3] # link between 1D and 2D\n",
    "# l1d2dcoords = nodes[l1d2d] #[nodes[link] for link in l1d]"
   ]
  },
  {
   "cell_type": "markdown",
   "metadata": {},
   "source": [
    "## plots"
   ]
  },
  {
   "cell_type": "code",
   "execution_count": null,
   "metadata": {},
   "outputs": [],
   "source": [
    "# create patches for faces of UGrid\n",
    "fpatches = (matplotlib.patches.Polygon(face) for face in fcoords)\n",
    "fpc = matplotlib.collections.PatchCollection(fpatches, edgecolor='grey')\n",
    "fpc.set_facecolor('none')"
   ]
  },
  {
   "cell_type": "code",
   "execution_count": null,
   "metadata": {},
   "outputs": [],
   "source": [
    "# line patches with links\n",
    "# lcoords = nodes[nlinks_1d] #[nodes[link] for link in l1d]\n",
    "lcoords = cell_xy[ln_1d_fix] \n",
    "lpc = matplotlib.collections.LineCollection(lcoords, color='green')\n",
    "# l1d2d = matplotlib.collections.LineCollection(l1d2dcoords, color='m')"
   ]
  },
  {
   "cell_type": "code",
   "execution_count": null,
   "metadata": {
    "scrolled": false
   },
   "outputs": [],
   "source": [
    "# create basemap\n",
    "%matplotlib notebook\n",
    "plt.close()\n",
    "\n",
    "# %%capture captured\n",
    "fig, ax = make_map()\n",
    "ax.add_collection(fpc)\n",
    "ax.add_collection(lpc)\n",
    "# ax.add_collection(l1d2d)\n",
    "\n",
    "ax.autoscale()"
   ]
  },
  {
   "cell_type": "code",
   "execution_count": null,
   "metadata": {},
   "outputs": [],
   "source": [
    "art_1dc, = ax.plot(cell_x[cidx_1d], cell_y[cidx_1d], '.m') # 1d cells\n",
    "art_2dc, = ax.plot(cell_x[cidx_2d], cell_y[cidx_2d], '.b') # 2d cells\n",
    "art_bi, = ax.plot(cell_x[cidx_bnds], cell_y[cidx_bnds], '.c') # boundary cells"
   ]
  },
  {
   "cell_type": "code",
   "execution_count": null,
   "metadata": {},
   "outputs": [],
   "source": [
    "art_1dc.remove()\n",
    "art_2dc.remove()\n",
    "art_bi.remove()"
   ]
  },
  {
   "cell_type": "code",
   "execution_count": null,
   "metadata": {},
   "outputs": [],
   "source": [
    "art_2dc, = ax.plot(cell_x[cidx_2d], cell_y[cidx_2d], '.b') # 1d nodes\n",
    "# art_2d, = ax.plot(node_lon[nidx_2d], node_lat[nidx_2d], '.b') # 1d nodes"
   ]
  },
  {
   "cell_type": "code",
   "execution_count": null,
   "metadata": {},
   "outputs": [],
   "source": [
    "art_2d.remove()\n",
    "art_2dc.remove()"
   ]
  },
  {
   "cell_type": "code",
   "execution_count": null,
   "metadata": {},
   "outputs": [],
   "source": [
    "art_ep, = ax.plot(node_lon[ep], node_lat[ep], '.r') # single end points\n",
    "art_sp, = ax.plot(node_lon[sp], node_lat[sp], '.g') # single start points -> outlet"
   ]
  },
  {
   "cell_type": "code",
   "execution_count": null,
   "metadata": {},
   "outputs": [],
   "source": [
    "\n",
    "art_1d.remove()\n",
    "art_bi.remove()\n",
    "art_ep.remove()\n",
    "art_sp.remove()\n"
   ]
  },
  {
   "cell_type": "markdown",
   "metadata": {},
   "source": [
    "## run and plot states"
   ]
  },
  {
   "cell_type": "code",
   "execution_count": null,
   "metadata": {},
   "outputs": [],
   "source": [
    "# plot initial water level\n",
    "try:\n",
    "    wl.remove()\n",
    "except ValueError:\n",
    "    pass\n",
    "fpc.set_facecolor('none')\n",
    "wl = ax.scatter(cell_x[n2d:], cell_y[n2d:], c=cmap_wl(N(bmi.get_var('hs')[n2d:])), cmap=cmap_wl, s=3)\n",
    "fig"
   ]
  },
  {
   "cell_type": "code",
   "execution_count": null,
   "metadata": {},
   "outputs": [],
   "source": [
    "# corner admin links\n",
    "# l1d = bmi.get_var('lncn')-1\n",
    "# lcoords = nodes[l1d] #[nodes[link] for link in l1d]"
   ]
  },
  {
   "cell_type": "code",
   "execution_count": null,
   "metadata": {},
   "outputs": [],
   "source": [
    "rain = bmi.get_var('rain')# np.zeros_like()\n",
    "print(rain[ep].max())"
   ]
  },
  {
   "cell_type": "code",
   "execution_count": null,
   "metadata": {},
   "outputs": [],
   "source": [
    "rain = np.zeros_like(bmi.get_var('rain'))\n",
    "rain[ep] = 1000\n",
    "bmi.set_var('rain', rain)"
   ]
  },
  {
   "cell_type": "code",
   "execution_count": null,
   "metadata": {},
   "outputs": [],
   "source": [
    "for i in range(100):\n",
    "    bmi.update()\n",
    "bmi.get_current_time()/86400"
   ]
  },
  {
   "cell_type": "code",
   "execution_count": null,
   "metadata": {},
   "outputs": [],
   "source": [
    "# bmi.get_var('q1')[ep]"
   ]
  },
  {
   "cell_type": "code",
   "execution_count": null,
   "metadata": {},
   "outputs": [],
   "source": [
    "try:\n",
    "    wl.remove()\n",
    "except ValueError:\n",
    "    pass\n",
    "fpc.set_facecolor('none')\n",
    "wl = ax.scatter(cell_x[n2d:], cell_y[n2d:], c=cmap_wl(N(bmi.get_var('hs')[n2d:])), cmap=cmap_wl, s=3)\n",
    "fig"
   ]
  },
  {
   "cell_type": "code",
   "execution_count": null,
   "metadata": {},
   "outputs": [],
   "source": [
    "try:\n",
    "    wl.remove()\n",
    "except ValueError:\n",
    "    pass\n",
    "fpc.set_facecolor(cmap_wl(N(bmi.get_var('hs')[:n2d])))\n",
    "fig"
   ]
  }
 ],
 "metadata": {
  "kernelspec": {
   "display_name": "Python [conda env:glofrim]",
   "language": "python",
   "name": "conda-env-glofrim-py"
  },
  "language_info": {
   "codemirror_mode": {
    "name": "ipython",
    "version": 2
   },
   "file_extension": ".py",
   "mimetype": "text/x-python",
   "name": "python",
   "nbconvert_exporter": "python",
   "pygments_lexer": "ipython2",
   "version": "2.7.14"
  }
 },
 "nbformat": 4,
 "nbformat_minor": 2
}