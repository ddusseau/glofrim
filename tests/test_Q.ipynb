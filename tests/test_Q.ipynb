{
 "cells": [
  {
   "cell_type": "code",
   "execution_count": null,
   "metadata": {},
   "outputs": [],
   "source": [
    "#- import required python libraries\n",
    "import netCDF4\n",
    "import sys, os\n",
    "import numpy as np\n",
    "import matplotlib as mpl\n",
    "import matplotlib.pyplot as plt\n",
    "from datetime import datetime\n",
    "import glofrim.glofrim_lib as glib\n",
    "from os.path import join, isfile, abspath, dirname, basename, normpath\n",
    "from configparser import ConfigParser\n",
    "from glofrim.glofrim_lib import configread\n",
    "import pandas as pd"
   ]
  },
  {
   "cell_type": "code",
   "execution_count": null,
   "metadata": {},
   "outputs": [],
   "source": [
    "% matplotlib notebook\n",
    "import matplotlib.tri as tri\n",
    "import matplotlib.pyplot as plt\n",
    "import cartopy.crs as ccrs\n",
    "from cartopy.mpl.gridliner import LONGITUDE_FORMATTER, LATITUDE_FORMATTER\n",
    "import matplotlib\n",
    "from matplotlib import cm\n",
    "\n",
    "def make_map(nrows=1, ncols=1, figsize=(16, 6), projection=ccrs.PlateCarree()):\n",
    "    subplot_kw = dict(projection=projection)\n",
    "    fig, axes = plt.subplots(nrows=nrows, ncols=ncols, figsize=figsize, subplot_kw=subplot_kw, sharex=True, sharey=True)\n",
    "    try: # always return list\n",
    "        iter(axes)\n",
    "    except TypeError:\n",
    "        axes = [axes]\n",
    "    for ax in axes:\n",
    "        gl = ax.gridlines(draw_labels=True)\n",
    "        gl.xlabels_top = gl.ylabels_right = False\n",
    "        gl.xformatter = LONGITUDE_FORMATTER\n",
    "        gl.yformatter = LATITUDE_FORMATTER\n",
    "    return fig, axes\n",
    "\n",
    "def plot_gtiff(ax, data, transform, cmap='viridis', vmin=None, vmax=None, cbar=False, cbar_kwargs={}, **kwargs):\n",
    "    extent = plot_extent(data, transform)\n",
    "    im = ax.imshow(data, extent=extent, vmin=vmin, vmax=vmax, cmap=cmap, origin='upper', **kwargs)\n",
    "    ax.set_extent(extent)\n",
    "    \n",
    "    dmin, dmax = np.nanmin(data), np.nanmax(data)\n",
    "    vmin = vmin if vmin is not None else dmin \n",
    "    vmax = vmax if vmax is not None else dmax\n",
    "    if (dmax > vmax) and (dmin < vmin):\n",
    "        cbar_kwargs.update(extend='both')\n",
    "    elif dmax > vmax:\n",
    "        cbar_kwargs.update(extend='max')\n",
    "    elif dmin < vmin:\n",
    "        cbar_kwargs.update(extend='min')\n",
    "\n",
    "    if cbar:\n",
    "        cbar = set_colorbar(ax, im, **cbar_kwargs)\n",
    "    else:\n",
    "        cbar = None\n",
    "    return im, cbar\n",
    "\n",
    "def plot_extent(data, transform):\n",
    "    rows, cols = data.shape[-2:]\n",
    "    left, top = transform * (0, 0)\n",
    "    right, bottom = transform * (cols, rows)\n",
    "    extent = (left, right, bottom, top)\n",
    "    return extent"
   ]
  },
  {
   "cell_type": "code",
   "execution_count": null,
   "metadata": {},
   "outputs": [],
   "source": [
    "from glofrim import Glofrim, PCR, CMF\n",
    "cbmi = Glofrim()"
   ]
  },
  {
   "cell_type": "code",
   "execution_count": null,
   "metadata": {},
   "outputs": [],
   "source": [
    "#- provide file with local paths to model objects\n",
    "env_fn = r'../../environment.env'\n",
    "config = configread(env_fn)\n",
    "root_dir = config.get('models', 'root_dir')"
   ]
  },
  {
   "cell_type": "code",
   "execution_count": null,
   "metadata": {},
   "outputs": [],
   "source": [
    "#- convert model configs to dictionary\n",
    "_cf = ConfigParser(inline_comment_prefixes=('#'))\n",
    "env = glib.configread(abspath(env_fn), encoding='utf-8', cf=_cf)\n",
    "glib.config2dict(env)"
   ]
  },
  {
   "cell_type": "code",
   "execution_count": null,
   "metadata": {},
   "outputs": [],
   "source": [
    "#- provide file with coupling settings\n",
    "# config_fn = join(root_dir, 'glofrim_PCR2CMF.ini')\n",
    "# config_fn = join(root_dir, 'glofrim_PCR2DFM.ini')\n",
    "# config_fn = join(root_dir, 'glofrim_WFL2DFM.ini')\n",
    "config_fn = join(root_dir, 'glofrim_PCR2LFP.ini')\n",
    "config_fn"
   ]
  },
  {
   "cell_type": "code",
   "execution_count": null,
   "metadata": {},
   "outputs": [],
   "source": [
    "#- provide locations where to extract simulated discharge\n",
    "x_obs_coord = 10.89 # set to coords of Neu-Darchau\n",
    "y_obs_coord = 53.23\n",
    "discharge_keys = {'PCR': ['PCR.discharge'], 'CMF': ['CMF.outflw'], 'DFM': ['DFM.q1'], 'LFP':[ 'LFP.Qx', 'LFP.Qy']}"
   ]
  },
  {
   "cell_type": "code",
   "execution_count": null,
   "metadata": {},
   "outputs": [],
   "source": [
    "#- create coupled GLOFRIM model and initialize configs\n",
    "try:\n",
    "    cbmi.initialize_config(config_fn, env_fn=env_fn)\n",
    "except Exception as e:\n",
    "    print e\n",
    "    %tb\n",
    "    sys.exit('configs could not be initialized')"
   ]
  },
  {
   "cell_type": "code",
   "execution_count": null,
   "metadata": {},
   "outputs": [],
   "source": [
    "models = cbmi.bmimodels.keys()\n",
    "df = pd.DataFrame(columns=[key for mod in models for key in discharge_keys[mod]]) # output dataframe\n",
    "\n",
    "print(models)\n",
    "cbmi.exchanges"
   ]
  },
  {
   "cell_type": "code",
   "execution_count": null,
   "metadata": {},
   "outputs": [],
   "source": [
    "# - provide start and end date\n",
    "t_start = datetime(2000,1,1)\n",
    "t_end = datetime(2000,1,10)\n",
    "cbmi.set_start_time(t_start)\n",
    "cbmi.set_end_time(t_end)\n",
    "try:\n",
    "    t_start == cbmi.get_start_time()\n",
    "    t_end == cbmi.get_end_time()\n",
    "except:\n",
    "    sys.exit('start or end time differ with set_var and get_var')"
   ]
  },
  {
   "cell_type": "code",
   "execution_count": null,
   "metadata": {},
   "outputs": [],
   "source": [
    "#- create coupled GLOFRIM model and initialize models\n",
    "try:\n",
    "    cbmi.initialize_model()\n",
    "except Exception as e:\n",
    "    print e\n",
    "    sys.exit('models could not be initialized')"
   ]
  },
  {
   "cell_type": "code",
   "execution_count": null,
   "metadata": {},
   "outputs": [],
   "source": [
    "cbmi.get_start_time() == t_start, cbmi.get_end_time() == t_end, cbmi.get_current_time()"
   ]
  },
  {
   "cell_type": "code",
   "execution_count": null,
   "metadata": {},
   "outputs": [],
   "source": [
    "models_t = [cbmi.bmimodels[mod]._t for mod in cbmi.bmimodels]\n",
    "not models_t or models_t.count(models_t[0]) == len(models_t)"
   ]
  },
  {
   "cell_type": "code",
   "execution_count": null,
   "metadata": {},
   "outputs": [],
   "source": [
    "#- get corresponding indices for models\n",
    "obs_ind = dict()\n",
    "obs_xy = dict()\n",
    "for mod in models:\n",
    "    if cbmi.bmimodels[mod].grid._1d is not None: # assume 1d for ugrid\n",
    "        obs_ind[mod] = cbmi.index(x_obs_coord, y_obs_coord, mod, in1d=True)\n",
    "        obs_xy[mod] = cbmi.bmimodels[mod].grid._1d.xy(ind=obs_ind[mod]).squeeze()\n",
    "    else: \n",
    "        obs_ind[mod] = cbmi.index(x_obs_coord, y_obs_coord, mod, in1d=False)\n",
    "        obs_xy[mod] = cbmi.bmimodels[mod].grid.xy(ind=obs_ind[mod]) # not for ugrid\n",
    "obs_ind, obs_xy"
   ]
  },
  {
   "cell_type": "code",
   "execution_count": null,
   "metadata": {},
   "outputs": [],
   "source": [
    "c1 = cbmi.exchanges[1][1]['coupling']\n",
    "var = cbmi.exchanges[1][1]['to_vars'][0]\n",
    "\n",
    "print(c1.to_name, var, c1.to_ind)"
   ]
  },
  {
   "cell_type": "code",
   "execution_count": null,
   "metadata": {
    "scrolled": true
   },
   "outputs": [],
   "source": [
    "# # - update models until end time is reached\n",
    "# # - also, read out discharge data at specified observation point\n",
    "# # print 'running simulation from ', str(cbmi.get_start_time()),' to ', str(cbmi.get_end_time())\n",
    "while cbmi.get_current_time() < cbmi.get_end_time():\n",
    "    t = cbmi.get_current_time()\n",
    "    cbmi.update()\n",
    "    if mod == 'LFP':\n",
    "        print(cbmi.bmimodels[c1.to_name].get_value_at_indices(var, c1.to_ind).sum()*86400)\n",
    "    \n",
    "    for mod in models:\n",
    "        for key in discharge_keys[mod]:\n",
    "            if mod == 'LFP':\n",
    "                print(cbmi.get_value_at_indices(key, c1.to_ind).sum()*86400)\n",
    "            df.loc[t, key] = cbmi.get_value_at_indices(key, obs_ind[mod])[0]\n",
    "#     import pdb; pdb.set_trace()"
   ]
  },
  {
   "cell_type": "code",
   "execution_count": null,
   "metadata": {},
   "outputs": [],
   "source": [
    "df.tail()"
   ]
  },
  {
   "cell_type": "code",
   "execution_count": null,
   "metadata": {},
   "outputs": [],
   "source": [
    "df.plot()"
   ]
  },
  {
   "cell_type": "code",
   "execution_count": null,
   "metadata": {},
   "outputs": [],
   "source": [
    "# PCR_runoff = cbmi.get_value('PCR.runoff')\n",
    "# CMF_roffin = cbmi.get_value(\"CMF.roffin\")\n",
    "# CMF_runoff = cbmi.get_value(\"CMF.runoff\")\n",
    "\n",
    "# print(np.nansum(PCR_runoff), np.nansum(CMF_roffin), np.nansum(CMF_runoff)) # 0.0056205126668403375\n",
    "# #- check whether plots are correct\n",
    "# plt.figure(figsize=(10,10))\n",
    "# plt.subplot(131)\n",
    "# plt.imshow(PCR_runoff, vmin=0, vmax=1e-2)\n",
    "# plt.plot(obs_rc['PCR'][1], obs_rc['PCR'][0], '.r')\n",
    "# plt.subplot(132)\n",
    "# plt.imshow(CMF_roffin, vmin=0, vmax=1e-2) # this should look the same at PCR_runoff\n",
    "# plt.subplot(133)\n",
    "# # what is the uint of CMF_runoff ??\n",
    "# plt.imshow(CMF_runoff, vmin=0, vmax=1e2) # this should look similar to PCR_runoff (after interpolation)\n",
    "# plt.plot(obs_rc['CMF'][1], obs_rc['CMF'][0], '.r')"
   ]
  },
  {
   "cell_type": "code",
   "execution_count": null,
   "metadata": {
    "scrolled": false
   },
   "outputs": [],
   "source": [
    "#- check dimensions of output maps\n",
    "try: \n",
    "    fig.close()\n",
    "except: \n",
    "    pass\n",
    "fig, axes = make_map(ncols=len(models), figsize=(10, 3.2))\n",
    "for i, mod in enumerate(models):\n",
    "    vals = cbmi.get_value(discharge_keys[mod][0])\n",
    "    print(mod, vals.shape)\n",
    "    if cbmi.bmimodels[mod].grid.type == 2: # assume 1d for ugrid\n",
    "        coords_1d = cbmi.bmimodels[mod].grid._1d.nodes\n",
    "        ind_1d = cbmi.bmimodels[mod].grid._1d.inds\n",
    "        axes[i].scatter(obs_xy[mod][0], obs_xy[mod][1], c='r', s=50)\n",
    "        axes[i].scatter(coords_1d[:,0], coords_1d[:,1], c=vals[ind_1d], s=0.1, vmin=0, vmax=10)\n",
    "    else:\n",
    "        plot_gtiff(axes[i], vals, cbmi.bmimodels[mod].grid.transform, vmin=0, vmax=1e3)\n",
    "        axes[i].scatter(obs_xy[mod][0], obs_xy[mod][1], c='r', s=50)"
   ]
  },
  {
   "cell_type": "code",
   "execution_count": null,
   "metadata": {},
   "outputs": [],
   "source": [
    "if 'LFP' in models:\n",
    "    DEMdata = np.ma.masked_greater(cbmi.get_value('LFP.DEM'), 999)\n",
    "    SGCdata = np.ma.masked_equal(cbmi.get_value('LFP.SGCwidth'), 0)\n",
    "    Qxdata = np.ma.masked_equal(cbmi.get_value('LFP.H'), 0)\n",
    "    plt.figure(figsize=(10, 3.2))\n",
    "    plt.subplot(131)\n",
    "    plt.title('LFP DEM [m]')\n",
    "    plt.imshow(DEMdata)\n",
    "    plt.subplot(132)\n",
    "    plt.title('LFP SGCwidth [m]')\n",
    "    plt.imshow(SGCdata)\n",
    "    plt.subplot(133)\n",
    "    plt.title('LFP H [m3/s]')\n",
    "    plt.imshow(Qxdata)"
   ]
  },
  {
   "cell_type": "code",
   "execution_count": null,
   "metadata": {},
   "outputs": [],
   "source": [
    "if 'LFP' in models:\n",
    "    fig, axes = make_map(ncols=1, figsize=(10, 3.2))\n",
    "    mod = 'LFP'\n",
    "    inds = cbmi.bmimodels[mod].grid._1d.inds\n",
    "    cbmi.bmimodels[mod].set_value_at_indices('DEM', inds, np.ones(inds.shape)*np.nan)\n",
    "    vals = cbmi.bmimodels[mod].get_value('DEM')\n",
    "    print(mod, vals.shape)\n",
    "    plot_gtiff(axes[0], vals, cbmi.bmimodels[mod].grid.transform, vmin=0, vmax=1e3)"
   ]
  },
  {
   "cell_type": "code",
   "execution_count": null,
   "metadata": {},
   "outputs": [],
   "source": [
    "#- finalize all models\n",
    "try:\n",
    "    cbmi.finalize()\n",
    "except Exception as e:\n",
    "    print e\n",
    "    sys.exit('models could not be finalized')"
   ]
  },
  {
   "cell_type": "code",
   "execution_count": null,
   "metadata": {},
   "outputs": [],
   "source": []
  }
 ],
 "metadata": {
  "kernelspec": {
   "display_name": "Python [conda env:glofrim]",
   "language": "python",
   "name": "conda-env-glofrim-py"
  },
  "language_info": {
   "codemirror_mode": {
    "name": "ipython",
    "version": 2
   },
   "file_extension": ".py",
   "mimetype": "text/x-python",
   "name": "python",
   "nbconvert_exporter": "python",
   "pygments_lexer": "ipython2",
   "version": "2.7.14"
  }
 },
 "nbformat": 4,
 "nbformat_minor": 2
}