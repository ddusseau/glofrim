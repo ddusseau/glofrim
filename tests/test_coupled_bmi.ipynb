{
 "cells": [
  {
   "cell_type": "code",
   "execution_count": null,
   "metadata": {},
   "outputs": [],
   "source": [
    "%matplotlib notebook\n",
    "\n",
    "import netCDF4\n",
    "import numpy as np\n",
    "import matplotlib.tri as tri\n",
    "import matplotlib.pyplot as plt\n",
    "import cartopy.crs as ccrs\n",
    "from cartopy.mpl.gridliner import LONGITUDE_FORMATTER, LATITUDE_FORMATTER\n",
    "import matplotlib\n",
    "from matplotlib import cm\n",
    "\n",
    "def make_map(projection=ccrs.PlateCarree()):\n",
    "    \n",
    "    fig, ax = plt.subplots(figsize=(6, 6),\n",
    "                           subplot_kw=dict(projection=projection))\n",
    "#     gl = ax.gridlines(draw_labels=True)\n",
    "#     gl.xlabels_top = gl.ylabels_right = False\n",
    "#     gl.xformatter = LONGITUDE_FORMATTER\n",
    "#     gl.yformatter = LATITUDE_FORMATTER\n",
    "    return fig, ax\n",
    "\n",
    "def plot_gtiff(ax, data, transform, cmap='viridis', vmin=None, vmax=None, cbar=False, cbar_kwargs={}, **kwargs):\n",
    "    extent = plot_extent(data, transform)\n",
    "    im = ax.imshow(data, extent=extent, vmin=vmin, vmax=vmax, cmap=cmap, origin='upper', **kwargs)\n",
    "    ax.set_extent(extent)\n",
    "    \n",
    "    dmin, dmax = np.nanmin(data), np.nanmax(data)\n",
    "    vmin = vmin if vmin is not None else dmin \n",
    "    vmax = vmax if vmax is not None else dmax\n",
    "    if (dmax > vmax) and (dmin < vmin):\n",
    "        cbar_kwargs.update(extend='both')\n",
    "    elif dmax > vmax:\n",
    "        cbar_kwargs.update(extend='max')\n",
    "    elif dmin < vmin:\n",
    "        cbar_kwargs.update(extend='min')\n",
    "\n",
    "    if cbar:\n",
    "        cbar = set_colorbar(ax, im, **cbar_kwargs)\n",
    "    else:\n",
    "        cbar = None\n",
    "    return im, cbar\n",
    "\n",
    "def plot_extent(data, transform):\n",
    "    rows, cols = data.shape[-2:]\n",
    "    left, top = transform * (0, 0)\n",
    "    right, bottom = transform * (cols, rows)\n",
    "    extent = (left, right, bottom, top)\n",
    "    return extent"
   ]
  },
  {
   "cell_type": "code",
   "execution_count": null,
   "metadata": {},
   "outputs": [],
   "source": [
    "import glofrim.glofrim_lib as glib \n",
    "from configparser import ConfigParser\n",
    "from os.path import join, isfile, abspath, dirname, basename, normpath"
   ]
  },
  {
   "cell_type": "code",
   "execution_count": null,
   "metadata": {},
   "outputs": [],
   "source": [
    "from glofrim.glofrim_lib import configread\n",
    "env_fn = r'../../environment.env'\n",
    "config = configread(env_fn)\n",
    "root_dir = config.get('models', 'root_dir')"
   ]
  },
  {
   "cell_type": "code",
   "execution_count": null,
   "metadata": {},
   "outputs": [],
   "source": [
    "_cf = ConfigParser(inline_comment_prefixes=('#'))\n",
    "env = glib.configread(abspath(env_fn), encoding='utf-8', cf=_cf)\n",
    "glib.config2dict(env)"
   ]
  },
  {
   "cell_type": "code",
   "execution_count": null,
   "metadata": {},
   "outputs": [],
   "source": [
    "# config_fn = join(root_dir, 'glofrim_PCR2CMF.ini')\n",
    "# config_fn = join(root_dir, 'glofrim_PCR2DFM.ini')\n",
    "# config_fn = join(root_dir, 'glofrim_WFL2DFM.ini')\n",
    "config_fn = join(root_dir, 'glofrim_PCR2LFP.ini')\n",
    "config_fn"
   ]
  },
  {
   "cell_type": "code",
   "execution_count": null,
   "metadata": {},
   "outputs": [],
   "source": [
    "from glofrim import Glofrim\n",
    "cbmi = Glofrim()\n",
    "cbmi.initialize_config(config_fn, env_fn=env_fn)\n",
    "cbmi.exchanges"
   ]
  },
  {
   "cell_type": "code",
   "execution_count": null,
   "metadata": {},
   "outputs": [],
   "source": [
    "# config_fn = r'/home/dirk/repos/model_test_data/test_Elbe/WFL_Elbe/SBM/wflow_sbm.ini'\n",
    "# cbmi.bmimodels['WFL']._bmi.initialize_config(config_fn)\n",
    "# cbmi.bmimodels['WFL']._bmi.dynModel.clonemappath"
   ]
  },
  {
   "cell_type": "code",
   "execution_count": null,
   "metadata": {},
   "outputs": [],
   "source": [
    "cbmi.initialize_model()"
   ]
  },
  {
   "cell_type": "code",
   "execution_count": null,
   "metadata": {},
   "outputs": [],
   "source": [
    "import numpy as np\n",
    "c1 = cbmi.exchanges[1][1]['coupling'] \n",
    "c1.set_frac()\n",
    "c1.to_ind.shape, c1.from_ind.shape, c1.frac.shape"
   ]
  },
  {
   "cell_type": "code",
   "execution_count": null,
   "metadata": {},
   "outputs": [],
   "source": [
    "# fcoords = c1.to_bmi.grid.get_poly_coords()\n",
    "# fpatches = (matplotlib.patches.Polygon(face) for face in fcoords)\n",
    "# fpc = matplotlib.collections.PatchCollection(fpatches, edgecolor='blue')\n",
    "# fpc.set_facecolor('none')"
   ]
  },
  {
   "cell_type": "code",
   "execution_count": null,
   "metadata": {},
   "outputs": [],
   "source": [
    "fig, ax = make_map()\n",
    "# grid cells\n",
    "cells = c1.from_bmi.grid.get_poly_coords()\n",
    "gpatches = (matplotlib.patches.Polygon(cell) for cell in cells)\n",
    "gpc = matplotlib.collections.PatchCollection(gpatches, edgecolor='grey')\n",
    "gpc.set_facecolor('none')\n",
    "# color linked cells\n",
    "g = np.ma.masked_equal(np.zeros(c1.from_bmi.grid.shape), 0)\n",
    "g.flat[c1.from_ind] = c1.from_grp\n",
    "# all nodes\n",
    "n = c1.to_bmi.grid._1d.nodes\n",
    "ax.add_collection(gpc)\n",
    "# ax.add_collection(fpc)\n",
    "plot_gtiff(ax, g, c1.from_bmi.grid.transform, cmap=cm.Set1)\n",
    "ax.scatter(n[:,0], n[:,1], c='grey', s=0.1)\n",
    "xy = c1.to_bmi.grid._1d.xy(c1.to_ind)\n",
    "ax.scatter(xy[:,0], xy[:,1], c=c1.to_grp, s=2, cmap=cm.Set1)"
   ]
  },
  {
   "cell_type": "code",
   "execution_count": null,
   "metadata": {},
   "outputs": [],
   "source": [
    "cbmi.get_start_time(), cbmi.get_current_time(), cbmi.get_end_time(), cbmi.get_time_step()"
   ]
  },
  {
   "cell_type": "code",
   "execution_count": null,
   "metadata": {},
   "outputs": [],
   "source": [
    "from datetime import datetime\n",
    "cbmi.update_until(datetime(2000, 1, 10))\n",
    "cbmi.get_current_time()"
   ]
  },
  {
   "cell_type": "code",
   "execution_count": null,
   "metadata": {},
   "outputs": [],
   "source": []
  },
  {
   "cell_type": "code",
   "execution_count": null,
   "metadata": {},
   "outputs": [],
   "source": [
    "# cbmi.finalize()"
   ]
  }
 ],
 "metadata": {
  "kernelspec": {
   "display_name": "Python [conda env:glofrim]",
   "language": "python",
   "name": "conda-env-glofrim-py"
  },
  "language_info": {
   "codemirror_mode": {
    "name": "ipython",
    "version": 2
   },
   "file_extension": ".py",
   "mimetype": "text/x-python",
   "name": "python",
   "nbconvert_exporter": "python",
   "pygments_lexer": "ipython2",
   "version": "2.7.14"
  }
 },
 "nbformat": 4,
 "nbformat_minor": 2
}